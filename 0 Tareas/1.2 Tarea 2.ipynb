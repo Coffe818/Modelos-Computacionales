{
 "cells": [
  {
   "cell_type": "markdown",
   "metadata": {},
   "source": [
    "# Tarea 2 parcial 1\n",
    "\n",
    "\n",
    "1.- Utilizando la función de la raíz cuadrada y las librerías math, random y matplotlib, generar un gráfico de dispersión en el que se muestre 20 números enteros aleatorios entre el 0 y 100 en el eje x, y su raíz cuadrada en el eje y."
   ]
  },
  {
   "cell_type": "code",
   "execution_count": 1,
   "metadata": {},
   "outputs": [],
   "source": [
    "import math as m\n",
    "import random as r\n",
    "import matplotlib.pyplot as plt\n"
   ]
  },
  {
   "cell_type": "code",
   "execution_count": 72,
   "metadata": {},
   "outputs": [],
   "source": [
    "numero_random= [] \n",
    "raiz_cuadrada= []\n",
    "\n",
    "def llenar_random_raiz(x):\n",
    "    global numero_random, raiz_cuadrada\n",
    "    numero_random.clear()\n",
    "    raiz_cuadrada.clear()\n",
    "\n",
    "    for i in range(x):\n",
    "        numero_random.append(r.randint(0,100))\n",
    "        raiz_cuadrada.append(m.sqrt(numero_random[i]))"
   ]
  },
  {
   "cell_type": "code",
   "execution_count": 73,
   "metadata": {},
   "outputs": [
    {
     "name": "stdout",
     "output_type": "stream",
     "text": [
      "numero_random: 35 raiz_cuadrada: 5.916079783099616\n",
      "numero_random: 21 raiz_cuadrada: 4.58257569495584\n",
      "numero_random: 60 raiz_cuadrada: 7.745966692414834\n",
      "numero_random: 68 raiz_cuadrada: 8.246211251235321\n",
      "numero_random: 35 raiz_cuadrada: 5.916079783099616\n",
      "numero_random: 49 raiz_cuadrada: 7.0\n",
      "numero_random: 52 raiz_cuadrada: 7.211102550927978\n",
      "numero_random: 94 raiz_cuadrada: 9.695359714832659\n",
      "numero_random: 72 raiz_cuadrada: 8.48528137423857\n",
      "numero_random: 98 raiz_cuadrada: 9.899494936611665\n",
      "numero_random: 61 raiz_cuadrada: 7.810249675906654\n",
      "numero_random: 6 raiz_cuadrada: 2.449489742783178\n",
      "numero_random: 14 raiz_cuadrada: 3.7416573867739413\n",
      "numero_random: 42 raiz_cuadrada: 6.48074069840786\n",
      "numero_random: 25 raiz_cuadrada: 5.0\n",
      "numero_random: 2 raiz_cuadrada: 1.4142135623730951\n",
      "numero_random: 94 raiz_cuadrada: 9.695359714832659\n",
      "numero_random: 53 raiz_cuadrada: 7.280109889280518\n",
      "numero_random: 22 raiz_cuadrada: 4.69041575982343\n",
      "numero_random: 7 raiz_cuadrada: 2.6457513110645907\n",
      "20\n"
     ]
    },
    {
     "data": {
      "image/png": "[encoded data removed]",
      "text/plain": [
       "<Figure size 1500x500 with 1 Axes>"
      ]
     },
     "metadata": {},
     "output_type": "display_data"
    }
   ],
   "source": [
    "Cantidad=20\n",
    "llenar_random_raiz(Cantidad)\n",
    "\n",
    "for i in range(Cantidad):\n",
    "    print(f'numero_random: {numero_random[i]} raiz_cuadrada: {raiz_cuadrada[i]}')\n",
    "\n",
    "print(len(numero_random))\n",
    "\n",
    "plt.figure(figsize=(15, 5))\n",
    "\n",
    "plt.bar(numero_random,raiz_cuadrada, color='blue')\n",
    "\n",
    "plt.xlabel('Numero aleatorio')\n",
    "plt.ylabel('Raiz cuadrada')\n",
    "\n",
    "plt.yticks(range(0, int(max(raiz_cuadrada)) + 2, 1))\n",
    "plt.xticks(range(0, int(max(numero_random))+5, 5))\n",
    "\n",
    "plt.show()\n"
   ]
  },
  {
   "cell_type": "markdown",
   "metadata": {},
   "source": [
    "2.- Encuentre el producto escalar de dos matrices de 3*3 dimensiones, previo a la multiplicación llene las matrices con valores aleatorios entre valores que vayan del -1000 al 1000."
   ]
  },
  {
   "cell_type": "code",
   "execution_count": 74,
   "metadata": {},
   "outputs": [],
   "source": [
    "\n",
    "a=[]\n",
    "b=[]\n",
    "def llenar_matrices(c1,f1,c2,f2,rango1,rango2):\n",
    "    global a,b\n",
    "    a=[]\n",
    "    b=[]\n",
    "    a = [[r.randint(rango1, rango2) for _ in range(f1)] for _ in range(c1)]\n",
    "    b = [[r.randint(rango1, rango2) for _ in range(f2)] for _ in range(c2)]\n",
    "    a = np.array(a)\n",
    "    b = np.array(b)\n",
    "\n",
    "\n",
    "\n",
    "import numpy as np\n",
    "def productro_escalar(a,b):\n",
    "    return np.dot(a,b)\n",
    "\n",
    "\n",
    "def imprimir(a,b):\n",
    "    print(f'Matriz A:\\n {a}')\n",
    "    print(f'Matriz B:\\n {b}')\n",
    "    print(f'Producto escalar:\\n {productro_escalar(a,b)}')"
   ]
  },
  {
   "cell_type": "code",
   "execution_count": 75,
   "metadata": {},
   "outputs": [
    {
     "name": "stdout",
     "output_type": "stream",
     "text": [
      "Matriz A:\n",
      " [[-895 -172 -122]\n",
      " [-132  723 -150]\n",
      " [-894 -613  627]]\n",
      "Matriz B:\n",
      " [[ -99  407  858]\n",
      " [-218 -136  820]\n",
      " [ 479  330 -109]]\n",
      "Producto escalar:\n",
      " [[   67663  -381133  -895652]\n",
      " [ -216396  -201552   495954]\n",
      " [  522473   -73580 -1338055]]\n"
     ]
    }
   ],
   "source": [
    "tamanio = 3\n",
    "llenar_matrices(tamanio, tamanio, tamanio, tamanio, -1000,1000)\n",
    "imprimir(a,b)"
   ]
  },
  {
   "cell_type": "markdown",
   "metadata": {},
   "source": [
    "3.- Encuentre el producto escalar de dos matrices de diferentes dimensiones a=3x2 y b=2x2 dimensiones, previo a la multiplicación llene las matrices con valores aleatorios entre valores que vayan del -500 al 500."
   ]
  },
  {
   "cell_type": "code",
   "execution_count": 76,
   "metadata": {},
   "outputs": [
    {
     "name": "stdout",
     "output_type": "stream",
     "text": [
      "Matriz A:\n",
      " [[ 302 -378]\n",
      " [-153 -256]\n",
      " [-210  414]]\n",
      "Matriz B:\n",
      " [[-235  134]\n",
      " [-320 -213]]\n",
      "Producto escalar:\n",
      " [[  49990  120982]\n",
      " [ 117875   34026]\n",
      " [ -83130 -116322]]\n"
     ]
    }
   ],
   "source": [
    "llenar_matrices(3,2,2,2,-500,500)\n",
    "imprimir(a,b)\n"
   ]
  },
  {
   "cell_type": "markdown",
   "metadata": {},
   "source": [
    "4.- Encuentre el producto escalar entre una matriz de 3*3 y un vector de 3 posiciones, previo a la multiplicación llene los arrays con valores aleatorios entre valores que vayan del -100 al 100."
   ]
  },
  {
   "cell_type": "code",
   "execution_count": 77,
   "metadata": {},
   "outputs": [
    {
     "name": "stdout",
     "output_type": "stream",
     "text": [
      "Matriz A:\n",
      " [[ 43  45   5]\n",
      " [-51  43 -32]\n",
      " [ 95 -64  90]]\n",
      "Matriz B:\n",
      " [[ 82]\n",
      " [ 38]\n",
      " [-19]]\n",
      "Producto escalar:\n",
      " [[ 5141]\n",
      " [-1940]\n",
      " [ 3648]]\n"
     ]
    }
   ],
   "source": [
    "llenar_matrices(3,3,3,1,-100,100)\n",
    "imprimir(a,b)"
   ]
  }
 ],
 "metadata": {
  "kernelspec": {
   "display_name": "Python 3",
   "language": "python",
   "name": "python3"
  },
  "language_info": {
   "codemirror_mode": {
    "name": "ipython",
    "version": 3
   },
   "file_extension": ".py",
   "mimetype": "text/x-python",
   "name": "python",
   "nbconvert_exporter": "python",
   "pygments_lexer": "ipython3",
   "version": "3.12.6"
  }
 },
 "nbformat": 4,
 "nbformat_minor": 2
}
