{
 "cells": [
  {
   "cell_type": "code",
   "execution_count": 76,
   "metadata": {},
   "outputs": [
    {
     "data": {
      "text/plain": [
       "matrix([[0.97, 0.02, 0.01],\n",
       "        [0.6 , 0.3 , 0.1 ],\n",
       "        [0.2 , 0.1 , 0.7 ]])"
      ]
     },
     "execution_count": 76,
     "metadata": {},
     "output_type": "execute_result"
    }
   ],
   "source": [
    "import numpy as np\n",
    "m1=np.matrix([[.97,0.02,0.01],[0.6,0.3,0.1],[0.2,0.1,0.7]])\n",
    "m1"
   ]
  },
  {
   "cell_type": "code",
   "execution_count": 77,
   "metadata": {},
   "outputs": [],
   "source": [
    "m_aux=np.matrix([[],[],[]])\n",
    "m_aux_anterior=np.matrix([[],[],[]])\n"
   ]
  },
  {
   "cell_type": "code",
   "execution_count": 78,
   "metadata": {},
   "outputs": [
    {
     "name": "stdout",
     "output_type": "stream",
     "text": [
      "[[0.955 0.026 0.019]\n",
      " [0.782 0.112 0.106]\n",
      " [0.394 0.104 0.502]]\n",
      "1----------------------- 2\n",
      "[[0.946 0.029 0.025]\n",
      " [0.847 0.06  0.093]\n",
      " [0.545 0.089 0.366]]\n",
      "N----------------------- 3\n",
      "[[0.94  0.03  0.03 ]\n",
      " [0.876 0.044 0.08 ]\n",
      " [0.655 0.074 0.271]]\n",
      "N----------------------- 4\n",
      "[[0.936 0.031 0.033]\n",
      " [0.892 0.039 0.069]\n",
      " [0.734 0.062 0.204]]\n",
      "N----------------------- 5\n",
      "[[0.933 0.031 0.036]\n",
      " [0.902 0.036 0.061]\n",
      " [0.79  0.054 0.156]]\n",
      "N----------------------- 6\n",
      "[[0.931 0.032 0.038]\n",
      " [0.909 0.035 0.055]\n",
      " [0.83  0.048 0.122]]\n",
      "N----------------------- 7\n",
      "[[0.93  0.032 0.039]\n",
      " [0.914 0.034 0.051]\n",
      " [0.858 0.043 0.098]]\n",
      "N----------------------- 8\n",
      "[[0.929 0.032 0.04 ]\n",
      " [0.917 0.034 0.048]\n",
      " [0.878 0.04  0.081]]\n",
      "N----------------------- 9\n",
      "[[0.928 0.032 0.04 ]\n",
      " [0.919 0.033 0.046]\n",
      " [0.892 0.038 0.069]]\n",
      "N----------------------- 10\n",
      "[[0.927 0.032 0.04 ]\n",
      " [0.92  0.033 0.045]\n",
      " [0.902 0.036 0.061]]\n",
      "N----------------------- 11\n",
      "[[0.926 0.032 0.04 ]\n",
      " [0.921 0.033 0.044]\n",
      " [0.909 0.035 0.055]]\n",
      "N----------------------- 12\n",
      "[[0.925 0.032 0.04 ]\n",
      " [0.922 0.033 0.043]\n",
      " [0.914 0.034 0.051]]\n",
      "N----------------------- 13\n",
      "[[0.924 0.032 0.04 ]\n",
      " [0.923 0.033 0.043]\n",
      " [0.917 0.034 0.048]]\n",
      "N----------------------- 14\n",
      "[[0.923 0.032 0.04 ]\n",
      " [0.924 0.033 0.043]\n",
      " [0.919 0.033 0.046]]\n",
      "N----------------------- 15\n",
      "[[0.923 0.032 0.04 ]\n",
      " [0.925 0.033 0.043]\n",
      " [0.92  0.033 0.045]]\n",
      "N----------------------- 16\n",
      "[[0.923 0.032 0.04 ]\n",
      " [0.926 0.033 0.043]\n",
      " [0.921 0.033 0.044]]\n",
      "N----------------------- 17\n",
      "[[0.923 0.032 0.04 ]\n",
      " [0.927 0.033 0.043]\n",
      " [0.922 0.033 0.043]]\n",
      "N----------------------- 18\n",
      "[[0.923 0.032 0.04 ]\n",
      " [0.928 0.033 0.043]\n",
      " [0.923 0.033 0.043]]\n",
      "N----------------------- 19\n",
      "[[0.923 0.032 0.04 ]\n",
      " [0.929 0.033 0.043]\n",
      " [0.924 0.033 0.043]]\n",
      "N----------------------- 20\n",
      "[[0.923 0.032 0.04 ]\n",
      " [0.93  0.033 0.043]\n",
      " [0.925 0.033 0.043]]\n",
      "N----------------------- 21\n",
      "[[0.923 0.032 0.04 ]\n",
      " [0.931 0.033 0.043]\n",
      " [0.926 0.033 0.043]]\n",
      "N----------------------- 22\n",
      "[[0.923 0.032 0.04 ]\n",
      " [0.931 0.033 0.043]\n",
      " [0.927 0.033 0.043]]\n",
      "N----------------------- 23\n",
      "[[0.923 0.032 0.04 ]\n",
      " [0.931 0.033 0.043]\n",
      " [0.928 0.033 0.043]]\n",
      "N----------------------- 24\n",
      "[[0.923 0.032 0.04 ]\n",
      " [0.931 0.033 0.043]\n",
      " [0.929 0.033 0.043]]\n",
      "N----------------------- 25\n",
      "[[0.923 0.032 0.04 ]\n",
      " [0.931 0.033 0.043]\n",
      " [0.93  0.033 0.043]]\n",
      "N----------------------- 26\n",
      "[[0.923 0.032 0.04 ]\n",
      " [0.931 0.033 0.043]\n",
      " [0.931 0.033 0.043]]\n",
      "N----------------------- 27\n",
      "Matriz anterior y la nueva son iguales:\n",
      "**** numero de matriz estable:27****\n",
      "[[0.923 0.032 0.04 ]\n",
      " [0.931 0.033 0.043]\n",
      " [0.931 0.033 0.043]]\n",
      "N----------------------- 28\n"
     ]
    }
   ],
   "source": [
    "for i in range(100):\n",
    "    if i==0:\n",
    "        m_aux=np.dot(m1,m1)\n",
    "        m_aux=np.round(m_aux,4)\n",
    "        print(m_aux)\n",
    "        print(\"1-----------------------\",i+2)\n",
    "    else:\n",
    "        y=i+1\n",
    "        m_aux_anterior=m_aux\n",
    "        m_aux=np.dot(m_aux,m1)\n",
    "        m_aux=np.round(m_aux,4)\n",
    "        if np.all(m_aux==m_aux_anterior):\n",
    "            print(\"Matriz anterior y la nueva son iguales:\")\n",
    "            print(\"**** numero de matriz estable:\" +str(y)+\"****\")\n",
    "            print(m_aux)\n",
    "            print(\"N-----------------------\",y+1)\n",
    "            break\n",
    "        print(m_aux )\n",
    "        print(\"N-----------------------\",y+1)\n"
   ]
  },
  {
   "cell_type": "code",
   "execution_count": 79,
   "metadata": {},
   "outputs": [
    {
     "data": {
      "text/plain": [
       "matrix([[100,   0,   0]])"
      ]
     },
     "execution_count": 79,
     "metadata": {},
     "output_type": "execute_result"
    }
   ],
   "source": [
    "#calcuar el prosentaje de poblacion\n",
    "poblacion_inicial=np.matrix([100,0,0])\n",
    "poblacion_inicial"
   ]
  },
  {
   "cell_type": "code",
   "execution_count": 80,
   "metadata": {},
   "outputs": [
    {
     "name": "stdout",
     "output_type": "stream",
     "text": [
      "Poblacion inicial -------------v0\n",
      "[[97.  2.  1.]]\n",
      "Poblacion inicial \n",
      "----------------------- 1\n",
      "[[95.49  2.64  1.87]]\n",
      "poblacion iteracion 2\n",
      "[[94.58  2.89  2.53]]\n",
      "poblacion iteracion 3\n",
      "[[93.98  3.01  3.01]]\n",
      "poblacion iteracion 4\n",
      "[[93.57  3.08  3.35]]\n",
      "poblacion iteracion 5\n",
      "[[93.28  3.13  3.59]]\n",
      "poblacion iteracion 6\n",
      "[[93.08  3.16  3.76]]\n",
      "poblacion iteracion 7\n",
      "[[92.94  3.19  3.88]]\n",
      "poblacion iteracion 8\n",
      "[[92.84  3.2   3.96]]\n",
      "poblacion iteracion 9\n",
      "[[92.77  3.21  4.02]]\n",
      "poblacion iteracion 10\n",
      "[[92.72  3.22  4.06]]\n",
      "poblacion iteracion 11\n",
      "[[92.68  3.23  4.09]]\n",
      "poblacion iteracion 12\n",
      "[[92.66  3.23  4.11]]\n",
      "poblacion iteracion 13\n",
      "[[92.64  3.23  4.13]]\n",
      "poblacion iteracion 14\n",
      "[[92.62  3.23  4.14]]\n",
      "poblacion iteracion 15\n",
      "[[92.61  3.24  4.15]]\n",
      "poblacion iteracion 16\n",
      "[[92.61  3.24  4.16]]\n",
      "poblacion iteracion 17\n",
      "Poblacion anterior y la nueva son iguales:\n",
      "**** numero de poblacion estable:17****\n",
      "poblacion Final [[93  3  4]]\n",
      "N----------------------- 18\n"
     ]
    }
   ],
   "source": [
    "print(\"Poblacion inicial -------------v0\")\n",
    "\n",
    "for z in range(20):\n",
    "    if z==0:\n",
    "        poblacion_inicial=np.dot(poblacion_inicial,m1)\n",
    "        poblacion_inicial=np.round(poblacion_inicial,2)\n",
    "        print(poblacion_inicial)\n",
    "        print(\"Poblacion inicial \")\n",
    "        print(\"-----------------------\",z+1)\n",
    "    else:\n",
    "        poblacion_anterior=poblacion_inicial\n",
    "        poblacion_inicial=np.dot(poblacion_inicial,m1)\n",
    "        poblacion_inicial=np.round(poblacion_inicial,2)\n",
    "        if np.all(poblacion_inicial==poblacion_anterior):\n",
    "            print(\"Poblacion anterior y la nueva son iguales:\")\n",
    "            print(\"**** numero de poblacion estable:\" +str(z)+\"****\")\n",
    "            poblacion_inicial=np.round(poblacion_inicial,0)\n",
    "            poblacion_inicial=poblacion_inicial.astype(int)\n",
    "          \n",
    "            print(\"poblacion Final\",poblacion_inicial)\n",
    "            print(\"N-----------------------\",z+1)\n",
    "            break\n",
    "        print(poblacion_inicial)\n",
    "        print(\"poblacion iteracion\",z+1)\n",
    "\n",
    "        \n"
   ]
  },
  {
   "cell_type": "code",
   "execution_count": 82,
   "metadata": {},
   "outputs": [
    {
     "data": {
      "text/plain": [
       "np.float64(7.0)"
      ]
     },
     "execution_count": 82,
     "metadata": {},
     "output_type": "execute_result"
    }
   ],
   "source": [
    "autos=100\n",
    "autos_en_taller=round(autos*(m_aux[2,1]+m_aux[2,2]),0)\n",
    "autos_en_taller"
   ]
  },
  {
   "cell_type": "code",
   "execution_count": 85,
   "metadata": {},
   "outputs": [
    {
     "name": "stdout",
     "output_type": "stream",
     "text": [
      "Utilidad promedio en el taller 36.80000000000001\n",
      "utilidad anual: 13432.000000000004\n"
     ]
    }
   ],
   "source": [
    "utilidad=50\n",
    "rep_men=100\n",
    "rep_may=150\n",
    "\n",
    "utilidad_en_taller=(utilidad*(m_aux[2,0])) -(rep_men*(m_aux[2,1]))-(rep_may*(m_aux[2,2]))\n",
    "print(\"Utilidad promedio en el taller\",utilidad_en_taller)\n",
    "print(\"utilidad anual:\",utilidad_en_taller*365)"
   ]
  },
  {
   "cell_type": "code",
   "execution_count": null,
   "metadata": {},
   "outputs": [],
   "source": []
  }
 ],
 "metadata": {
  "kernelspec": {
   "display_name": "Python 3",
   "language": "python",
   "name": "python3"
  },
  "language_info": {
   "codemirror_mode": {
    "name": "ipython",
    "version": 3
   },
   "file_extension": ".py",
   "mimetype": "text/x-python",
   "name": "python",
   "nbconvert_exporter": "python",
   "pygments_lexer": "ipython3",
   "version": "3.12.6"
  }
 },
 "nbformat": 4,
 "nbformat_minor": 2
}
