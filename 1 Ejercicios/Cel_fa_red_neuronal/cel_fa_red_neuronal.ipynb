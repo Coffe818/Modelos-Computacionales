{
 "cells": [
  {
   "cell_type": "markdown",
   "metadata": {},
   "source": [
    "%pip install numpy\n",
    "%pip install tensorflow\n",
    "#tienes que tenel el py 3.10 para que tensorflow funcione\n",
    "%pip install matplotlib"
   ]
  },
  {
   "cell_type": "code",
   "execution_count": 1,
   "metadata": {},
   "outputs": [],
   "source": [
    "\n",
    "import tensorflow as tf\n",
    "import numpy as np\n"
   ]
  },
  {
   "cell_type": "code",
   "execution_count": 2,
   "metadata": {},
   "outputs": [],
   "source": [
    "clesius = np.array([-40, -10, 0, 8, 15, 22, 38], dtype=float)\n",
    "farhenheit = np.array([-40, 14, 32, 46, 59, 72, 100], dtype=float)"
   ]
  },
  {
   "cell_type": "code",
   "execution_count": 3,
   "metadata": {},
   "outputs": [
    {
     "name": "stderr",
     "output_type": "stream",
     "text": [
      "d:\\Programs\\Python\\Python310\\lib\\site-packages\\keras\\src\\layers\\core\\dense.py:87: UserWarning: Do not pass an `input_shape`/`input_dim` argument to a layer. When using Sequential models, prefer using an `Input(shape)` object as the first layer in the model instead.\n",
      "  super().__init__(activity_regularizer=activity_regularizer, **kwargs)\n"
     ]
    }
   ],
   "source": [
    "capa= tf.keras.layers.Dense(units=1, input_shape=[1])\n",
    "modelo= tf.keras.Sequential([capa])"
   ]
  },
  {
   "cell_type": "code",
   "execution_count": 4,
   "metadata": {},
   "outputs": [],
   "source": [
    "oculta1=tf.keras.layers.Dense(units=3, input_shape=[1])\n",
    "oculta2=tf.keras.layers.Dense(units=3)\n",
    "salida1=tf.keras.layers.Dense(units=1)\n",
    "modelo= tf.keras.Sequential([oculta1, oculta2, salida1])"
   ]
  },
  {
   "cell_type": "code",
   "execution_count": 5,
   "metadata": {},
   "outputs": [],
   "source": [
    "modelo.compile(\n",
    "    optimizer=tf.keras.optimizers.Adam(0.1),\n",
    "    loss='mean_squared_error'\n",
    ")"
   ]
  },
  {
   "cell_type": "code",
   "execution_count": 6,
   "metadata": {},
   "outputs": [
    {
     "name": "stdout",
     "output_type": "stream",
     "text": [
      "Comenzando entrenamiento...\n",
      "Modelo entrenado!\n"
     ]
    }
   ],
   "source": [
    "print(\"Comenzando entrenamiento...\")\n",
    "histoarial=modelo.fit(clesius, farhenheit, epochs=1000, verbose=False)\n",
    "#datos entrada y salida, epochs=1000 repeticiones de veces en las que entrena , verbose=False no muestra el proceso \n",
    "print(\"Modelo entrenado!\")\n"
   ]
  },
  {
   "cell_type": "code",
   "execution_count": 7,
   "metadata": {},
   "outputs": [],
   "source": [
    "\n",
    "import matplotlib.pyplot as plt"
   ]
  },
  {
   "cell_type": "code",
   "execution_count": 8,
   "metadata": {},
   "outputs": [
    {
     "data": {
      "text/plain": [
       "[<matplotlib.lines.Line2D at 0x1ed64355810>]"
      ]
     },
     "execution_count": 8,
     "metadata": {},
     "output_type": "execute_result"
    },
    {
     "data": {
      "image/png": "[encoded data removed]",
      "text/plain": [
       "<Figure size 640x480 with 1 Axes>"
      ]
     },
     "metadata": {},
     "output_type": "display_data"
    }
   ],
   "source": [
    "plt.xlabel(\"# Epoca iteracion\")\n",
    "plt.xlabel(\"Magnitud de perdida\")\n",
    "plt.plot(histoarial.history[\"loss\"])"
   ]
  },
  {
   "cell_type": "code",
   "execution_count": 10,
   "metadata": {},
   "outputs": [
    {
     "name": "stdout",
     "output_type": "stream",
     "text": [
      "Hagamos una prediccion\n",
      "\u001b[1m1/1\u001b[0m \u001b[32m━━━━━━━━━━━━━━━━━━━━\u001b[0m\u001b[37m\u001b[0m \u001b[1m0s\u001b[0m 79ms/step\n",
      "El resultado es [[211.74745]] fahrenheit!\n"
     ]
    }
   ],
   "source": [
    "print(\"Hagamos una prediccion\")\n",
    "resultado=modelo.predict(np.array([100.0]))\n",
    "print(\"El resultado es \" + str(resultado) + \" fahrenheit!\")"
   ]
  },
  {
   "cell_type": "code",
   "execution_count": 11,
   "metadata": {},
   "outputs": [
    {
     "name": "stdout",
     "output_type": "stream",
     "text": [
      "Variables internas del modelo\n",
      "[array([[-0.22991604,  0.05030544, -0.6211635 ]], dtype=float32), array([-3.501787 , -0.4988011, -3.7269158], dtype=float32)]\n",
      "[array([[ 0.07672057,  1.2767372 ,  0.94954884],\n",
      "       [ 0.85047615,  0.7015128 , -0.2996391 ],\n",
      "       [-0.23826957,  0.4821924 ,  0.8090611 ]], dtype=float32), array([ 3.406719 , -3.4391117, -3.629156 ], dtype=float32)]\n",
      "[array([[ 0.48501834],\n",
      "       [-1.493035  ],\n",
      "       [-1.1973579 ]], dtype=float32), array([3.4319446], dtype=float32)]\n"
     ]
    }
   ],
   "source": [
    "print(\"Variables internas del modelo\")\n",
    "print(oculta1.get_weights())\n",
    "print(oculta2.get_weights())\n",
    "print(salida1.get_weights())"
   ]
  }
 ],
 "metadata": {
  "kernelspec": {
   "display_name": "Python 3",
   "language": "python",
   "name": "python3"
  },
  "language_info": {
   "codemirror_mode": {
    "name": "ipython",
    "version": 3
   },
   "file_extension": ".py",
   "mimetype": "text/x-python",
   "name": "python",
   "nbconvert_exporter": "python",
   "pygments_lexer": "ipython3",
   "version": "3.10.0"
  }
 },
 "nbformat": 4,
 "nbformat_minor": 2
}
