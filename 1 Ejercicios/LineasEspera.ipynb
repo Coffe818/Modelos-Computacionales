{
 "cells": [
  {
   "cell_type": "code",
   "execution_count": 48,
   "metadata": {},
   "outputs": [
    {
     "name": "stdout",
     "output_type": "stream",
     "text": [
      "30 35\n"
     ]
    }
   ],
   "source": [
    "# vlambda = int(input(\"Tasa de llegada: \"))\n",
    "# vmu = int(input(\"Tasa de servicio: \"))\n",
    "vlambda = 30\n",
    "vmu =35\n",
    "\n",
    "print(vlambda, vmu)"
   ]
  },
  {
   "cell_type": "code",
   "execution_count": 49,
   "metadata": {},
   "outputs": [],
   "source": [
    "def cero_clientes_P0(tasallegada, ritmoservicio):\n",
    "    return (1-(tasallegada/ritmoservicio))*100"
   ]
  },
  {
   "cell_type": "code",
   "execution_count": 50,
   "metadata": {},
   "outputs": [],
   "source": [
    "def utiliza_promedio_sistema_P(tasallegada, ritmoservicio):\n",
    "    return (tasallegada/ritmoservicio  )*100"
   ]
  },
  {
   "cell_type": "code",
   "execution_count": 51,
   "metadata": {},
   "outputs": [],
   "source": [
    "def promedio_clientes_sistema_L(tasallegada, ritmoservicio):\n",
    "    return tasallegada/(ritmoservicio-tasallegada)"
   ]
  },
  {
   "cell_type": "code",
   "execution_count": 52,
   "metadata": {},
   "outputs": [],
   "source": [
    "def promedio_clientes_cola_Lq(tasallegada, ritmoservicio):\n",
    "    return (tasallegada*tasallegada)/(ritmoservicio*(ritmoservicio-tasallegada))"
   ]
  },
  {
   "cell_type": "code",
   "execution_count": 53,
   "metadata": {},
   "outputs": [],
   "source": [
    "def tiempo_promedio_sistema_W(tasallegada, ritmoservicio):\n",
    "    return (1/(ritmoservicio-tasallegada))*60  #si no lo da en horas"
   ]
  },
  {
   "cell_type": "code",
   "execution_count": 61,
   "metadata": {},
   "outputs": [],
   "source": [
    "def tiempo_espera_cola_Wq(tasallegada, ritmoservicio):\n",
    "    return (tasallegada/(ritmoservicio*(ritmoservicio-tasallegada)))*60 #si no lo da en horas\n",
    "#  \n",
    "# return promedio_clientes_cola_Lq(vlambda, vmu)/tasallegada\n",
    "#tiempo_espera_cola_Wq(vlambda)"
   ]
  },
  {
   "cell_type": "code",
   "execution_count": 62,
   "metadata": {},
   "outputs": [
    {
     "name": "stdout",
     "output_type": "stream",
     "text": [
      "A- PROB CERO CLIENTES EN EL SISTEMA 14.28571428571429\n",
      "B- PROMEDIO DEL EMPLEADO EN LA CAJA REGISTRADORA 85.71428571428571\n",
      "C- PROMEDIO DE CLIENTES EN EL SISTEMA 6.0\n",
      "D- PROMEDIO DE CLIENTES EN LA FILA 5.142857142857143\n",
      "E- EL TIEMPO PROMEDIO QUE LOS CLIENTES PASANEN EL SISTEMA 12.0 minutos\n",
      "F- TIEMPO PROMEDIO DE ESPERA EN LA FILA 10.285714285714286 minutos\n"
     ]
    }
   ],
   "source": [
    "print(\"A- PROB CERO CLIENTES EN EL SISTEMA\",cero_clientes_P0(vlambda, vmu))\n",
    "print(\"B- PROMEDIO DEL EMPLEADO EN LA CAJA REGISTRADORA\",utiliza_promedio_sistema_P(vlambda, vmu))\n",
    "print(\"C- PROMEDIO DE CLIENTES EN EL SISTEMA\",promedio_clientes_sistema_L(vlambda, vmu))\n",
    "print(\"D- PROMEDIO DE CLIENTES EN LA FILA\",promedio_clientes_cola_Lq(vlambda, vmu))\n",
    "print(\"E- EL TIEMPO PROMEDIO QUE LOS CLIENTES PASANEN EL SISTEMA\",tiempo_promedio_sistema_W(vlambda, vmu), \"minutos\")\n",
    "print(\"F- TIEMPO PROMEDIO DE ESPERA EN LA FILA\",tiempo_espera_cola_Wq(vlambda, vmu), \"minutos\")"
   ]
  },
  {
   "cell_type": "code",
   "execution_count": null,
   "metadata": {},
   "outputs": [],
   "source": []
  }
 ],
 "metadata": {
  "kernelspec": {
   "display_name": "Python 3",
   "language": "python",
   "name": "python3"
  },
  "language_info": {
   "codemirror_mode": {
    "name": "ipython",
    "version": 3
   },
   "file_extension": ".py",
   "mimetype": "text/x-python",
   "name": "python",
   "nbconvert_exporter": "python",
   "pygments_lexer": "ipython3",
   "version": "3.12.6"
  }
 },
 "nbformat": 4,
 "nbformat_minor": 2
}
