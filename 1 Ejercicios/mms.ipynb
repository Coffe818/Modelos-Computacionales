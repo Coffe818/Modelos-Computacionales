{
 "cells": [
  {
   "cell_type": "markdown",
   "metadata": {},
   "source": [
    "# PLANTEAMIENTO\n",
    "\n",
    "UNA DULCERIA DE CINETIENE 3 EMPLEADOS QUE ATIENDEN A LOS CLIENTES POR RIGUROSO ORDEN DE LLEGADA EL TIEMPO DE SERVICIO POR CLIENTE SE DISTRIBUYE EXPONENCIALMENTE CON UN PROMEDIO DE 2 MIN POR CLIENTE. LOS CIENTES DE LA DULCERIA ESPERAN EN UN AMPLIO ESPACIO FORMANDO UNA SOLA FILA SUS LLEGADAS TIENEN UNA DISTRIBUCION DE POISON CON UN PROMEDIO DE 81 CLIENTES POR HORA. SI EL TIEMPO PROMEDIO QUE PASAN EN EL AREA DE DULCERIA REBASA LOS 10 MIN, LOS CLIENTES SE SIENTEN INSATISFECHOS. \n",
    "\n",
    "* A) CUAL ES LA UTLIZACION PROMEDIO DE LOS EMPLEADOS EN LA DULCERIA?\n",
    "* B) CUAL ES EL TIEMPO PROMEDIO QUE PASAN LOS CLIENTES EN EL AREA DE DULCERIA?\n"
   ]
  },
  {
   "cell_type": "code",
   "execution_count": null,
   "metadata": {},
   "outputs": [],
   "source": [
    "from math import factorial"
   ]
  },
  {
   "cell_type": "code",
   "execution_count": 50,
   "metadata": {},
   "outputs": [],
   "source": [
    "#P0\n",
    "def Pzero(tasaLlegada,tasaServicio,servidores):\n",
    "    sumatoria=0\n",
    "    for x in range(servidores):\n",
    "        calculo = 1.0 /factorial(x) * (tasaLlegada/tasaServicio)**x\n",
    "        sumatoria += calculo\n",
    "    expresion = (1.0/factorial(servidores)) * ((tasaLlegada/tasaServicio)**servidores) * ((servidores*tasaServicio)/(servidores*tasaServicio-tasaLlegada)) \n",
    "    resultado = 1.0 / (sumatoria + expresion)\n",
    "    return resultado\n"
   ]
  },
  {
   "cell_type": "code",
   "execution_count": 51,
   "metadata": {},
   "outputs": [],
   "source": [
    "def ClinesMinClintesHora(clinetes_min):\n",
    "    return (1/clinetes_min)*60"
   ]
  },
  {
   "cell_type": "code",
   "execution_count": 52,
   "metadata": {},
   "outputs": [
    {
     "name": "stdout",
     "output_type": "stream",
     "text": [
      "p0: 0.024906600249065998\n"
     ]
    }
   ],
   "source": [
    "print(\"p0:\",Pzero(tasaLlegada=81, tasaServicio=ClinesMinClintesHora(2) , servidores=3)) #"
   ]
  },
  {
   "cell_type": "code",
   "execution_count": 53,
   "metadata": {},
   "outputs": [],
   "source": [
    "#p utlizacion promedio del sistema\n",
    "def p(tasallegada, tasaServicio, servidores):\n",
    "    return (tasallegada/(tasaServicio*servidores))"
   ]
  },
  {
   "cell_type": "code",
   "execution_count": 59,
   "metadata": {},
   "outputs": [
    {
     "name": "stdout",
     "output_type": "stream",
     "text": [
      "7.353549190535492\n"
     ]
    }
   ],
   "source": [
    "#lq numeor de clientes en la cola\n",
    "def Lq(tasallegada, tasaServicio, servidores):\n",
    "    return (((tasallegada*tasaServicio)*(tasallegada/tasaServicio)**servidores ))/(factorial(servidores-1)*((servidores*tasaServicio-tasallegada)**2))*Pzero(tasallegada, tasaServicio, servidores)\n",
    "print(Lq(81,30,3))"
   ]
  },
  {
   "cell_type": "code",
   "execution_count": 55,
   "metadata": {},
   "outputs": [
    {
     "name": "stdout",
     "output_type": "stream",
     "text": [
      "0.09078455790784558\n"
     ]
    }
   ],
   "source": [
    "#wq Tiempo promedio en cola\n",
    "def Wq(tasallegada, tasaServicio, servidores):\n",
    "    return Lq(tasallegada, tasaServicio, servidores)/tasallegada\n",
    "print(Wq(81,30,3))"
   ]
  },
  {
   "cell_type": "code",
   "execution_count": 56,
   "metadata": {},
   "outputs": [
    {
     "name": "stdout",
     "output_type": "stream",
     "text": [
      "0.12411789124117892\n"
     ]
    }
   ],
   "source": [
    "#W  tiempo promedio de permanencia en el sistema\n",
    "def W(tasallegada, tasaServicio, servidores):\n",
    "    return Wq(tasallegada, tasaServicio, servidores) + (1/tasaServicio)\n",
    "print(W(81,30,3))"
   ]
  },
  {
   "cell_type": "code",
   "execution_count": 57,
   "metadata": {},
   "outputs": [
    {
     "name": "stdout",
     "output_type": "stream",
     "text": [
      "La utlizacion promedio del sitema es: 0.9\n",
      "La utlizacion promedio del sitema (porsentaje) es: 90.0 %\n"
     ]
    }
   ],
   "source": [
    "#a)\n",
    "tasa_de_llegada = int(input(\"Tasa de llegada: \"))    #81\n",
    "tasa_de_servicio = int(input(\"Tasa de servicio: \"))  #30\n",
    "servidores = int(input(\"Numero de servidores: \"))    #3\n",
    "\n",
    "\n",
    "print(\"La utlizacion promedio del sitema es:\", p(tasa_de_llegada,tasa_de_servicio,servidores))\n",
    "print(\"La utlizacion promedio del sitema (porsentaje) es:\", p(tasa_de_llegada,tasa_de_servicio,servidores)*100,\"%\")\n"
   ]
  },
  {
   "cell_type": "code",
   "execution_count": 58,
   "metadata": {},
   "outputs": [
    {
     "name": "stdout",
     "output_type": "stream",
     "text": [
      "El tiempo promedio que pasan los clientes en area de dulceria es (horas): 0.12411789124117892\n",
      "El tiempo promedio que pasan los clientes en area de dulceria es (minutos): 7.447073474470735\n"
     ]
    }
   ],
   "source": [
    "#b)\n",
    "print(\"El tiempo promedio que pasan los clientes en area de dulceria es (horas):\", W(tasa_de_llegada,tasa_de_servicio,servidores))\n",
    "print(\"El tiempo promedio que pasan los clientes en area de dulceria es (minutos):\", W(tasa_de_llegada,tasa_de_servicio,servidores)*60)"
   ]
  },
  {
   "cell_type": "code",
   "execution_count": null,
   "metadata": {},
   "outputs": [],
   "source": []
  }
 ],
 "metadata": {
  "kernelspec": {
   "display_name": "Python 3",
   "language": "python",
   "name": "python3"
  },
  "language_info": {
   "codemirror_mode": {
    "name": "ipython",
    "version": 3
   },
   "file_extension": ".py",
   "mimetype": "text/x-python",
   "name": "python",
   "nbconvert_exporter": "python",
   "pygments_lexer": "ipython3",
   "version": "3.12.6"
  }
 },
 "nbformat": 4,
 "nbformat_minor": 2
}
