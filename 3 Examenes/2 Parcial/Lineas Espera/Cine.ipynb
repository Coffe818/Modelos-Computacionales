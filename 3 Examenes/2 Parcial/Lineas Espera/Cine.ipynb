{
 "cells": [
  {
   "cell_type": "markdown",
   "metadata": {},
   "source": [
    "(Lineas de espera) El cine Saltillo tiene una tienda de dulceria en concesion con tres empleados que atienden a los clientes por riguroso orden de llegada. El tiempo de servicio por cliente se distribuye exponencialmente, con un promedio de 2 minutos por cliente. Los Clientes de la concesion esperan en un amplio vestibulo, formando una sola fila, y sus llegadas tiene una distribucion de Poisson, con un promedio de 80 clientes por hora . Se exhiben cortos durante 8 mintuos antes del inicio de cada funcion. Si el tiempo promedio que pasan el el area de concesion rebasa los 8 minutos los cientes se sientes insatisfechos\n",
    "\n",
    "**Obtener:**(desarrollar procedimiento y los resultados en python)\n",
    "\n",
    "**Cual es la utilizacion proedio de los empleados de la concesion?**\n",
    "\n",
    "**Cual es el tiempo promedio que pasan los clientes en area de la concesion**"
   ]
  },
  {
   "cell_type": "code",
   "execution_count": 8,
   "metadata": {},
   "outputs": [],
   "source": [
    "from math import factorial\n",
    "\n",
    "#P0\n",
    "def Pzero(tasaLlegada,tasaServicio,servidores):\n",
    "    sumatoria=0\n",
    "    for x in range(servidores):\n",
    "        calculo = 1.0 /factorial(x) * (tasaLlegada/tasaServicio)**x\n",
    "        sumatoria += calculo\n",
    "    expresion = (1.0/factorial(servidores)) * ((tasaLlegada/tasaServicio)**servidores) * ((servidores*tasaServicio)/(servidores*tasaServicio-tasaLlegada)) \n",
    "    resultado = 1.0 / (sumatoria + expresion)\n",
    "    return resultado\n",
    "\n",
    "#p utlizacion promedio del sistema\n",
    "def p(tasallegada, tasaServicio, servidores):\n",
    "    return (tasallegada/(tasaServicio*servidores))\n",
    "\n",
    "#lq numeor de clientes en la cola\n",
    "def Lq(tasallegada, tasaServicio, servidores):\n",
    "    return (((tasallegada*tasaServicio)*(tasallegada/tasaServicio)**servidores ))/(factorial(servidores-1)*((servidores*tasaServicio-tasallegada)**2))*Pzero(tasallegada, tasaServicio, servidores)\n",
    "\n",
    "\n",
    "#wq Tiempo promedio en cola\n",
    "def Wq(tasallegada, tasaServicio, servidores):\n",
    "    return Lq(tasallegada, tasaServicio, servidores)/tasallegada\n",
    "\n",
    "\n",
    "#W  tiempo promedio de permanencia en el sistema\n",
    "def W(tasallegada, tasaServicio, servidores):\n",
    "    return Wq(tasallegada, tasaServicio, servidores) + (1/tasaServicio)\n"
   ]
  },
  {
   "cell_type": "code",
   "execution_count": null,
   "metadata": {},
   "outputs": [],
   "source": [
    "tasa_de_llegada = 80 #int(input(\"Tasa de llegada: \"))    #80 clientes por hora\n",
    "tasa_de_servicio = 30 #int(input(\"Tasa de servicio: \"))  #30 minutos pror cilente (1/2minpor cliente)*60 \n",
    "servidores = 3 #int(input(\"Numero de servidores: \"))    #3 empleados"
   ]
  },
  {
   "cell_type": "code",
   "execution_count": 10,
   "metadata": {},
   "outputs": [
    {
     "name": "stdout",
     "output_type": "stream",
     "text": [
      "La utlizacion promedio del sitema es: 0.8888888888888888\n",
      "La utlizacion promedio del sitema (porsentaje) es: 88.88888888888889 %\n",
      "\n",
      "\n",
      "El tiempo promedio que pasan los clientes en area de la concesion es (horas): 0.1130841121495327\n",
      "El tiempo promedio que pasan los clientes en area de la concesion es (minutos): 6.785046728971962\n"
     ]
    }
   ],
   "source": [
    "print(\"La utlizacion promedio del sitema es:\", p(tasa_de_llegada,tasa_de_servicio,servidores))\n",
    "print(\"La utlizacion promedio del sitema (porsentaje) es:\", p(tasa_de_llegada,tasa_de_servicio,servidores)*100,\"%\")\n",
    "\n",
    "print(\"\")\n",
    "print(\"\")\n",
    "\n",
    "print(\"El tiempo promedio que pasan los clientes en area de la concesion es (horas):\", W(tasa_de_llegada,tasa_de_servicio,servidores))\n",
    "print(\"El tiempo promedio que pasan los clientes en area de la concesion es (minutos):\", W(tasa_de_llegada,tasa_de_servicio,servidores)*60)"
   ]
  }
 ],
 "metadata": {
  "kernelspec": {
   "display_name": "Python 3",
   "language": "python",
   "name": "python3"
  },
  "language_info": {
   "codemirror_mode": {
    "name": "ipython",
    "version": 3
   },
   "file_extension": ".py",
   "mimetype": "text/x-python",
   "name": "python",
   "nbconvert_exporter": "python",
   "pygments_lexer": "ipython3",
   "version": "3.12.6"
  }
 },
 "nbformat": 4,
 "nbformat_minor": 2
}
